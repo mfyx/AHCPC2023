{
 "cells": [
  {
   "cell_type": "code",
   "execution_count": 1,
   "metadata": {},
   "outputs": [
    {
     "name": "stdout",
     "output_type": "stream",
     "text": [
      "20\n",
      "28\n"
     ]
    }
   ],
   "source": [
    "import math\n",
    "\n",
    "# 生成环保数列\n",
    "def generate_magical_numbers(limit):\n",
    "    magical_numbers = set()\n",
    "    for a in range(2, int(math.sqrt(limit)) + 1):\n",
    "        for b in range(1, a):\n",
    "            if (a - b) % 2 == 0:\n",
    "                n = (a - b) * (a + b)\n",
    "                if n > limit:\n",
    "                    break\n",
    "                magical_numbers.add(n)\n",
    "    return sorted(magical_numbers)\n",
    "\n",
    "# 预处理环保数列\n",
    "LIMIT = 10**6  # 根据需要设定合适的值\n",
    "magical_numbers = generate_magical_numbers(LIMIT)\n",
    "\n",
    "# 处理查询\n",
    "def query_magical_number(x):\n",
    "    if x <= len(magical_numbers):\n",
    "        return magical_numbers[x - 1]\n",
    "    else:\n",
    "        return -1  # 如果超出范围，可以选择扩展\n",
    "\n",
    "# 输入处理\n",
    "T = int(input())  # 读取组数\n",
    "for _ in range(T):\n",
    "    x = int(input())\n",
    "    print(query_magical_number(x))"
   ]
  },
  {
   "cell_type": "code",
   "execution_count": 3,
   "metadata": {},
   "outputs": [
    {
     "name": "stdout",
     "output_type": "stream",
     "text": [
      "8\n",
      "11\n"
     ]
    }
   ],
   "source": [
    "def count_f(N):\n",
    "    \"\"\"\n",
    "    计算不超过 N 的环保数的个数。\n",
    "    环保数是可以表示为 a^2 - b^2 的数，即 n 是奇数或是4的倍数且 n !=4。\n",
    "    \"\"\"\n",
    "    if N < 3:\n",
    "        return 0\n",
    "    # 计算不超过 N 的奇数个数\n",
    "    count_odds = (N - 1) // 2\n",
    "    # 计算不超过 N 的4的倍数个数 >=8\n",
    "    if N >= 8:\n",
    "        count_mult4 = (N // 4) - 1\n",
    "    else:\n",
    "        count_mult4 = 0\n",
    "    return count_odds + count_mult4\n",
    "\n",
    "def find_xth_number(x):\n",
    "    \"\"\"\n",
    "    使用二分查找找到环保数列的第 x 项。\n",
    "    \"\"\"\n",
    "    low = 3\n",
    "    high = 4 * x + 10  # 设定一个足够大的上界\n",
    "\n",
    "    while low < high:\n",
    "        mid = (low + high) // 2\n",
    "        c = count_f(mid)\n",
    "        if c >= x:\n",
    "            high = mid\n",
    "        else:\n",
    "            low = mid + 1\n",
    "    # low 应该是第 x 项的值，且是环保数\n",
    "    return low\n",
    "\n",
    "def main():\n",
    "    T = int(input())\n",
    "    for _ in range(T):\n",
    "        x_line = input().strip()\n",
    "        # 处理可能的空行或额外空格\n",
    "        while x_line == '':\n",
    "            x_line = input().strip()\n",
    "        x = int(x_line)\n",
    "        nth_number = find_xth_number(x)\n",
    "        print(nth_number)\n",
    "\n",
    "if __name__ == \"__main__\":\n",
    "    main()"
   ]
  },
  {
   "cell_type": "markdown",
   "metadata": {},
   "source": [
    "找到规律，发现环保数为奇数或者4的倍数（4本身除外），然后用二分搜索进行查找即可"
   ]
  }
 ],
 "metadata": {
  "kernelspec": {
   "display_name": "base",
   "language": "python",
   "name": "python3"
  },
  "language_info": {
   "codemirror_mode": {
    "name": "ipython",
    "version": 3
   },
   "file_extension": ".py",
   "mimetype": "text/x-python",
   "name": "python",
   "nbconvert_exporter": "python",
   "pygments_lexer": "ipython3",
   "version": "3.11.5"
  }
 },
 "nbformat": 4,
 "nbformat_minor": 2
}
