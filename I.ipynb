{
 "cells": [
  {
   "cell_type": "code",
   "execution_count": 1,
   "metadata": {},
   "outputs": [
    {
     "name": "stdout",
     "output_type": "stream",
     "text": [
      "1.333333333\n",
      "1.250000000\n",
      "2.000000000\n"
     ]
    }
   ],
   "source": [
    "import heapq\n",
    "\n",
    "# 计算每个烧杯的期望值函数\n",
    "def calculate_expectation(l, b, p):\n",
    "    return (b / (l + b)) * p\n",
    "\n",
    "# 初始化\n",
    "n, t, q = map(int, input().split())  # n个烧杯，t毫升物质β，q次变动\n",
    "p = list(map(int, input().split()))  # 每个烧杯的pi值\n",
    "l = list(map(int, input().split()))  # 每个烧杯的li值\n",
    "\n",
    "# 当前最大期望值的优先队列（贪心策略）\n",
    "pq = []\n",
    "\n",
    "# 初始状态下的期望值\n",
    "total_expectation = 0\n",
    "for i in range(n):\n",
    "    current_expectation = calculate_expectation(l[i], min(l[i], t), p[i])\n",
    "    heapq.heappush(pq, (-current_expectation, i))  # 用负数来实现最大堆\n",
    "    total_expectation += current_expectation\n",
    "\n",
    "# 处理每次变动\n",
    "for _ in range(q):\n",
    "    tj, rj = map(int, input().split())  # 读取操作\n",
    "    rj -= 1  # 将烧杯编号转换为0-indexed\n",
    "\n",
    "    # 对应操作\n",
    "    if tj == 1:\n",
    "        l[rj] += 1  # 增加物质α\n",
    "    elif tj == 2:\n",
    "        l[rj] -= 1  # 减少物质α\n",
    "    \n",
    "    # 更新该烧杯的期望值\n",
    "    current_expectation = calculate_expectation(l[rj], min(l[rj], t), p[rj])\n",
    "    \n",
    "    # 总期望值更新\n",
    "    heapq.heappush(pq, (-current_expectation, rj))\n",
    "    \n",
    "    # 输出当前期望值\n",
    "    print(f\"{current_expectation:.9f}\")"
   ]
  },
  {
   "cell_type": "code",
   "execution_count": 2,
   "metadata": {},
   "outputs": [
    {
     "name": "stdout",
     "output_type": "stream",
     "text": [
      "3.000000000\n",
      "2.583333333\n",
      "3.250000000\n"
     ]
    }
   ],
   "source": [
    "import heapq\n",
    "\n",
    "# 计算每个烧杯的期望值函数\n",
    "def calculate_expectation(l, b, p):\n",
    "    return (b / (l + b)) * p\n",
    "\n",
    "n, t, q = map(int, input().split())  # n个烧杯，t毫升物质β，q次变动\n",
    "p = list(map(int, input().split()))  # 每个烧杯的pi值\n",
    "l = list(map(int, input().split()))  # 每个烧杯的li值\n",
    "\n",
    "# 当前最大期望值的优先队列（贪心策略）\n",
    "pq = []\n",
    "for i in range(n):\n",
    "    pq.append((-calculate_expectation(l[i], min(l[i], t), p[i]), i))\n",
    "\n",
    "# 转成堆\n",
    "heapq.heapify(pq)\n",
    "\n",
    "# 计算初始的总期望值\n",
    "total_expectation = 0\n",
    "for i in range(n):\n",
    "    total_expectation += calculate_expectation(l[i], min(l[i], t), p[i])\n",
    "\n",
    "# 处理每次变动\n",
    "for _ in range(q):\n",
    "    tj, rj = map(int, input().split())  # 读取操作\n",
    "    rj -= 1  # 将烧杯编号转换为0-indexed\n",
    "\n",
    "    # 对应操作\n",
    "    if tj == 1:\n",
    "        l[rj] += 1  # 增加物质α\n",
    "    elif tj == 2:\n",
    "        l[rj] -= 1  # 减少物质α\n",
    "    \n",
    "    # 更新该烧杯的期望值\n",
    "    heapq.heappush(pq, (-calculate_expectation(l[rj], min(l[rj], t), p[rj]), rj))\n",
    "\n",
    "    # 计算总期望值\n",
    "    total_expectation = 0\n",
    "    for i in range(n):\n",
    "        total_expectation += calculate_expectation(l[i], min(l[i], t), p[i])\n",
    "    \n",
    "    # 输出当前总期望值\n",
    "    print(f\"{total_expectation:.9f}\")"
   ]
  },
  {
   "cell_type": "code",
   "execution_count": null,
   "metadata": {},
   "outputs": [],
   "source": []
  }
 ],
 "metadata": {
  "kernelspec": {
   "display_name": "base",
   "language": "python",
   "name": "python3"
  },
  "language_info": {
   "codemirror_mode": {
    "name": "ipython",
    "version": 3
   },
   "file_extension": ".py",
   "mimetype": "text/x-python",
   "name": "python",
   "nbconvert_exporter": "python",
   "pygments_lexer": "ipython3",
   "version": "3.11.5"
  }
 },
 "nbformat": 4,
 "nbformat_minor": 2
}
