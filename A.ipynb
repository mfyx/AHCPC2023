{
 "cells": [
  {
   "cell_type": "code",
   "execution_count": 1,
   "metadata": {},
   "outputs": [
    {
     "data": {
      "text/plain": [
       "(1, 688)"
      ]
     },
     "execution_count": 1,
     "metadata": {},
     "output_type": "execute_result"
    }
   ],
   "source": [
    "def years_until_pollution(N, M, K):\n",
    "    years = 0\n",
    "    current_area = N\n",
    "    while current_area > M:\n",
    "        current_area *= (1 - K / 100)\n",
    "        years += 1\n",
    "    return years\n",
    "\n",
    "test1 = (19, 10, 50)\n",
    "test2 = (1000, 1, 1)\n",
    "\n",
    "output1 = years_until_pollution(*test1)\n",
    "output2 = years_until_pollution(*test2)\n",
    "\n",
    "output1, output2"
   ]
  },
  {
   "cell_type": "code",
   "execution_count": 5,
   "metadata": {},
   "outputs": [
    {
     "name": "stdout",
     "output_type": "stream",
     "text": [
      "688\n"
     ]
    }
   ],
   "source": [
    "def years_until_pollution(N, M, K):\n",
    "    years = 0\n",
    "    current_area = N\n",
    "    while current_area > M:\n",
    "        current_area *= (1 - K / 100)\n",
    "        years += 1\n",
    "    return years\n",
    "\n",
    "N = float(input())\n",
    "M = float(input())\n",
    "K = float(input())\n",
    "\n",
    "print(years_until_pollution(N, M, K))"
   ]
  },
  {
   "cell_type": "code",
   "execution_count": 7,
   "metadata": {},
   "outputs": [
    {
     "name": "stdout",
     "output_type": "stream",
     "text": [
      "1\n"
     ]
    }
   ],
   "source": [
    "def years_until_pollution(N, M, K):\n",
    "    years = 0\n",
    "    current_area = N\n",
    "    while current_area > M:\n",
    "        current_area *= (1 - K / 100)\n",
    "        years += 1\n",
    "    return years\n",
    "\n",
    "N, M, K = map(int, input().split())\n",
    "\n",
    "result = years_until_pollution(N, M, K)\n",
    "\n",
    "print(result)"
   ]
  },
  {
   "cell_type": "markdown",
   "metadata": {},
   "source": [
    "简单模拟即可"
   ]
  }
 ],
 "metadata": {
  "kernelspec": {
   "display_name": "base",
   "language": "python",
   "name": "python3"
  },
  "language_info": {
   "codemirror_mode": {
    "name": "ipython",
    "version": 3
   },
   "file_extension": ".py",
   "mimetype": "text/x-python",
   "name": "python",
   "nbconvert_exporter": "python",
   "pygments_lexer": "ipython3",
   "version": "3.11.5"
  }
 },
 "nbformat": 4,
 "nbformat_minor": 2
}
