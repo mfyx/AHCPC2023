{
 "cells": [
  {
   "cell_type": "code",
   "execution_count": 1,
   "metadata": {},
   "outputs": [
    {
     "name": "stdout",
     "output_type": "stream",
     "text": [
      "6\n"
     ]
    }
   ],
   "source": [
    "# 输入处理\n",
    "n, k = map(int, input().split())\n",
    "citizens = list(map(int, input().split()))\n",
    "\n",
    "# 初始滑动窗口的和\n",
    "current_sum = sum(citizens[:k])\n",
    "max_sum = current_sum\n",
    "\n",
    "# 滑动窗口遍历\n",
    "for i in range(1, len(citizens) - k + 1):\n",
    "    current_sum = current_sum - citizens[i - 1] + citizens[i + k - 1]\n",
    "    max_sum = max(max_sum, current_sum)\n",
    "\n",
    "# 输出结果\n",
    "print(max_sum)"
   ]
  },
  {
   "cell_type": "code",
   "execution_count": 2,
   "metadata": {},
   "outputs": [
    {
     "name": "stdout",
     "output_type": "stream",
     "text": [
      "5\n"
     ]
    }
   ],
   "source": [
    "# 输入处理\n",
    "n, k = map(int, input().split())\n",
    "\n",
    "# 构建上三角矩阵\n",
    "citizens = []\n",
    "for i in range(n - 1):\n",
    "    citizens.append(list(map(int, input().split())))\n",
    "\n",
    "# 计算最大总和\n",
    "max_sum = 0\n",
    "\n",
    "# 遍历所有可能的起始路口\n",
    "for i in range(n - k):\n",
    "    current_sum = 0\n",
    "    for j in range(k):\n",
    "        current_sum += citizens[i][j]  # 累加相邻的市民数量\n",
    "    \n",
    "    max_sum = max(max_sum, current_sum)\n",
    "\n",
    "# 输出结果\n",
    "print(max_sum)"
   ]
  },
  {
   "cell_type": "code",
   "execution_count": 3,
   "metadata": {},
   "outputs": [
    {
     "name": "stdout",
     "output_type": "stream",
     "text": [
      "6\n"
     ]
    }
   ],
   "source": [
    "def max_citizens(n, k, citizens_matrix):\n",
    "    # 将所有相邻路口之间的市民数量拉平成一个列表\n",
    "    citizens = []\n",
    "    for i in range(n - 1):\n",
    "        citizens += citizens_matrix[i]\n",
    "    \n",
    "    # 使用滑动窗口，计算所有长度为 k 的连续子区间的和\n",
    "    max_sum = 0\n",
    "    current_sum = sum(citizens[:k])\n",
    "    max_sum = current_sum\n",
    "    \n",
    "    for i in range(1, len(citizens) - k + 1):\n",
    "        current_sum = current_sum - citizens[i - 1] + citizens[i + k - 1]\n",
    "        max_sum = max(max_sum, current_sum)\n",
    "    \n",
    "    return max_sum\n",
    "\n",
    "# 读取输入\n",
    "n, k = map(int, input().split())\n",
    "citizens_matrix = []\n",
    "for i in range(n - 1):\n",
    "    citizens_matrix.append(list(map(int, input().split())))\n",
    "\n",
    "# 计算并输出结果\n",
    "result = max_citizens(n, k, citizens_matrix)\n",
    "print(result)"
   ]
  },
  {
   "cell_type": "code",
   "execution_count": null,
   "metadata": {},
   "outputs": [],
   "source": [
    "def max_citizens(n, k, C_input):\n",
    "    # Initialize C[s][t] as a 2D list\n",
    "    C = [[0] * (n + 1) for _ in range(n + 1)]\n",
    "    idx = 0\n",
    "    for s in range(1, n):\n",
    "        for t in range(s + 1, n + 1):\n",
    "            C[s][t] = C_input[idx]\n",
    "            idx += 1\n",
    "\n",
    "    # Compute pre_sum[s][x] = sum of C[s][x] to C[s][n]\n",
    "    pre_sum = [[0] * (n + 2) for _ in range(n + 1)]\n",
    "    for s in range(1, n):\n",
    "        pre_sum[s][n] = C[s][n]\n",
    "        for t in range(n - 1, s, -1):\n",
    "            pre_sum[s][t] = C[s][t] + pre_sum[s][t + 1]\n",
    "\n",
    "    max_total = 0\n",
    "    # Iterate over all possible windows\n",
    "    for l in range(1, n - k + 1):\n",
    "        window_end = l + k - 1\n",
    "        current_sum = 0\n",
    "        for s in range(1, window_end + 1):\n",
    "            current_sum += pre_sum[s][l + 1]\n",
    "        if current_sum > max_total:\n",
    "            max_total = current_sum\n",
    "\n",
    "    return max_total\n",
    "\n",
    "# 读取输入\n",
    "import sys\n",
    "\n",
    "def main():\n",
    "    import sys\n",
    "    input = sys.stdin.read\n",
    "    data = input().split()\n",
    "    n = int(data[0])\n",
    "    k = int(data[1])\n",
    "    C_input = list(map(int, data[2:]))\n",
    "    result = max_citizens(n, k, C_input)\n",
    "    print(result)\n",
    "\n",
    "if __name__ == \"__main__\":\n",
    "    main()"
   ]
  },
  {
   "cell_type": "code",
   "execution_count": 3,
   "metadata": {},
   "outputs": [
    {
     "name": "stdout",
     "output_type": "stream",
     "text": [
      "14\n"
     ]
    }
   ],
   "source": [
    "def max_citizens(n, k, C_input):\n",
    "    # 初始化二维列表 C[s][t]\n",
    "    C = [[0] * (n + 1) for _ in range(n + 1)]\n",
    "    idx = 0\n",
    "    for s in range(1, n):\n",
    "        for t in range(s + 1, n + 1):\n",
    "            C[s][t] = C_input[idx]\n",
    "            idx += 1\n",
    "    # 计算 pre_sum[s][t] = 从 t 到 n 的 C[s][t] 之和\n",
    "    pre_sum = [[0] * (n + 2) for _ in range(n + 1)]\n",
    "    for s in range(1, n):\n",
    "        pre_sum[s][n] = C[s][n]\n",
    "        for t in range(n - 1, s, -1):\n",
    "            pre_sum[s][t] = C[s][t] + pre_sum[s][t + 1]\n",
    "    max_total = 0\n",
    "    # 遍历所有可能的窗口\n",
    "    for l in range(1, n - k + 1):\n",
    "        window_end = l + k - 1\n",
    "        current_sum = 0\n",
    "        for s in range(1, window_end + 1):\n",
    "            current_sum += pre_sum[s][l + 1]\n",
    "        if current_sum > max_total:\n",
    "            max_total = current_sum\n",
    "    return max_total\n",
    "def main():\n",
    "    # 读取第一行：n 和 k\n",
    "    first_line = input().strip().split()\n",
    "    n = int(first_line[0])\n",
    "    k = int(first_line[1])\n",
    "    # 读取接下来的 n-1 行市民数量数据\n",
    "    C_input = []\n",
    "    for i in range(n - 1):\n",
    "        line = input().strip()\n",
    "        if line:\n",
    "            nums = list(map(int, line.split()))\n",
    "            C_input.extend(nums)\n",
    "    # 计算结果并输出\n",
    "    result = max_citizens(n, k, C_input)\n",
    "    print(result)\n",
    "main()"
   ]
  },
  {
   "cell_type": "code",
   "execution_count": 14,
   "metadata": {},
   "outputs": [
    {
     "name": "stdout",
     "output_type": "stream",
     "text": [
      "window = 19\n",
      "window = 19\n",
      "19\n"
     ]
    }
   ],
   "source": [
    "def main():\n",
    "    first_line = input().strip().split()\n",
    "    n = int(first_line[0])\n",
    "    k = int(first_line[1])\n",
    "\n",
    "    a = [[0] * (n + 1) for _ in range(n + 1)]\n",
    "    h = [0] * (n + 1)\n",
    "    v = [0] * (n + 2)\n",
    "\n",
    "    for s in range(1, n):\n",
    "        line = input().strip().split()\n",
    "        for t in range(s+1, n+1):\n",
    "            a[s][t] = int(line[t - (s+1)])\n",
    "            h[s] += a[s][t]\n",
    "    \n",
    "    for t in range(2, n+1):\n",
    "        for s in range(1, n):\n",
    "            v[t] += a[s][t]\n",
    "    \n",
    "    window = 0\n",
    "    for i in range(1, 1+k):\n",
    "        window += h[i]\n",
    "    #print(\"window = \" + str(window))\n",
    "    \n",
    "    ans = window\n",
    "\n",
    "    for i in range(2, n-k+1):\n",
    "        window -= v[i]\n",
    "        window += h[i + k - 1]\n",
    "        #print(\"window = \" + str(window))\n",
    "        ans = max(window, ans)\n",
    "    \n",
    "    print(ans)\n",
    "\n",
    "main()\n",
    "        "
   ]
  }
 ],
 "metadata": {
  "kernelspec": {
   "display_name": "base",
   "language": "python",
   "name": "python3"
  },
  "language_info": {
   "codemirror_mode": {
    "name": "ipython",
    "version": 3
   },
   "file_extension": ".py",
   "mimetype": "text/x-python",
   "name": "python",
   "nbconvert_exporter": "python",
   "pygments_lexer": "ipython3",
   "version": "3.11.5"
  }
 },
 "nbformat": 4,
 "nbformat_minor": 2
}
