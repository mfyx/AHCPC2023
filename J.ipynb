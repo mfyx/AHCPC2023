{
 "cells": [
  {
   "cell_type": "code",
   "execution_count": 1,
   "metadata": {},
   "outputs": [
    {
     "name": "stdout",
     "output_type": "stream",
     "text": [
      "5\n"
     ]
    }
   ],
   "source": [
    "import math\n",
    "\n",
    "MOD = 10**9 + 7\n",
    "\n",
    "# 计算可能的方案数\n",
    "def count_schemes(n, a):\n",
    "    count = 0\n",
    "    for i in range(1, n+1):\n",
    "        for j in range(i+1, n+1):\n",
    "            if math.gcd(i, j) == 1:  # 检查编号是否互质\n",
    "                # 检查新能源量是否互质或是否有未知新能源量\n",
    "                if a[i-1] == 0 or a[j-1] == 0 or math.gcd(a[i-1], a[j-1]) == 1:\n",
    "                    count = (count + 1) % MOD\n",
    "    return count\n",
    "\n",
    "# 处理输入和输出\n",
    "def main():\n",
    "    T = int(input())  # 读取数据组数\n",
    "    for _ in range(T):\n",
    "        n = int(input())  # 槽位数\n",
    "        a = list(map(int, input().split()))  # 槽位的新能源量\n",
    "        print(count_schemes(n, a))  # 输出方案数\n",
    "\n",
    "if __name__ == \"__main__\":\n",
    "    main()"
   ]
  },
  {
   "cell_type": "code",
   "execution_count": 4,
   "metadata": {},
   "outputs": [
    {
     "name": "stdout",
     "output_type": "stream",
     "text": [
      "4\n",
      "5\n"
     ]
    }
   ],
   "source": [
    "from math import gcd\n",
    "from itertools import combinations\n",
    "\n",
    "MOD = int(1e9 + 7)\n",
    "\n",
    "def count_max_power_schemes(n, energy_slots):\n",
    "    # 计算所有可能的互质对\n",
    "    def is_coprime(x, y):\n",
    "        return gcd(x, y) == 1\n",
    "\n",
    "    # 统计未知能源槽位的数量\n",
    "    unknown_count = energy_slots.count(0)\n",
    "    \n",
    "    # 如果所有能源量都是未知的\n",
    "    if unknown_count == n:\n",
    "        return n % MOD\n",
    "\n",
    "    # 计算已知能源槽位的互质对\n",
    "    known_slots = [i for i in range(n) if energy_slots[i] != 0]\n",
    "    known_pairs = 0\n",
    "\n",
    "    for i, j in combinations(known_slots, 2):\n",
    "        if is_coprime(i + 1, j + 1) and is_coprime(energy_slots[i], energy_slots[j]):\n",
    "            known_pairs += 1\n",
    "\n",
    "    # 计算方案数\n",
    "    # 这里假设每个未知槽位可以与任何已知槽位形成互质对\n",
    "    # 这是一种简化的假设，具体实现可能需要更复杂的逻辑\n",
    "    result = known_pairs + unknown_count\n",
    "    return result % MOD\n",
    "\n",
    "def main():\n",
    "    T = int(input().strip())\n",
    "    for _ in range(T):\n",
    "        n = int(input().strip())\n",
    "        energy_slots = list(map(int, input().strip().split()))\n",
    "        print(count_max_power_schemes(n, energy_slots))\n",
    "\n",
    "if __name__ == \"__main__\":\n",
    "    main()"
   ]
  },
  {
   "cell_type": "code",
   "execution_count": null,
   "metadata": {},
   "outputs": [],
   "source": []
  }
 ],
 "metadata": {
  "kernelspec": {
   "display_name": "base",
   "language": "python",
   "name": "python3"
  },
  "language_info": {
   "codemirror_mode": {
    "name": "ipython",
    "version": 3
   },
   "file_extension": ".py",
   "mimetype": "text/x-python",
   "name": "python",
   "nbconvert_exporter": "python",
   "pygments_lexer": "ipython3",
   "version": "3.11.5"
  }
 },
 "nbformat": 4,
 "nbformat_minor": 2
}
